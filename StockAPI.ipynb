{
 "cells": [
  {
   "cell_type": "code",
   "execution_count": null,
   "metadata": {},
   "outputs": [],
   "source": [
    "import pandas as pd\n",
    "import numpy as np\n",
    "import matplotlib as plt\n",
    "import json\n",
    "import finnhub\n",
    "from datetime import datetime\n",
    "import plotly.graph_objects as go"
   ]
  },
  {
   "cell_type": "code",
   "execution_count": null,
   "metadata": {},
   "outputs": [],
   "source": [
    "finnhub_client = finnhub.Client(api_key=\"chn0td1r01qsjpubbivgchn0td1r01qsjpubbj00\")\n"
   ]
  },
  {
   "cell_type": "code",
   "execution_count": null,
   "metadata": {},
   "outputs": [],
   "source": [
    "res = finnhub_client.stock_candles('F', 'D', 1577858400, 1684933200)\n",
    "print(res)"
   ]
  },
  {
   "cell_type": "code",
   "execution_count": null,
   "metadata": {},
   "outputs": [],
   "source": [
    "df = pd.DataFrame(res)\n",
    "df['t'] = pd.to_datetime(df['t'],unit='s')\n",
    "newdf = df.rename(columns={'c': 'close', 'h': 'high', 'l': 'low', 'o': 'open', 's': 'status', 't': 'time', 'v': 'volume'})\n",
    "newdf"
   ]
  },
  {
   "cell_type": "code",
   "execution_count": null,
   "metadata": {},
   "outputs": [],
   "source": [
    "fig = go.Figure(data=[go.Candlestick(x=df['t'],\n",
    "                open=df['o'], high=df['h'],\n",
    "                low=df['l'], close=df['c'])\n",
    "                      ])\n",
    "\n",
    "fig.update_layout(\n",
    "    title='Ford',\n",
    "    yaxis_title='Stock',\n",
    "    shapes = [dict(\n",
    "        x0='2020-01-01', x1='2023-05-24', y0=0, y1=1, xref='x', yref='paper',\n",
    "        line_width=2)],\n",
    "    annotations=[dict(\n",
    "        x='2020-01-01', y=0.05, xref='x', yref='paper',\n",
    "        showarrow=False, xanchor='left', text='')]\n",
    ")\n",
    "\n",
    "fig.show()"
   ]
  },
  {
   "cell_type": "code",
   "execution_count": null,
   "metadata": {},
   "outputs": [],
   "source": [
    "\"\"\"\"\"\"\"\"\"\n",
    "Function to return Company metrics\n",
    "Pass Arguments \n",
    "    Ticker: ex. AAPL, F, or SPY\n",
    "    Metric: can pass ALL, or individial metric:\n",
    "                                        -currentRatio\n",
    "                                        -salesPerShare\n",
    "                                        -netMargin \n",
    "\"\"\"\"\"\"\"\"\"\n",
    "def companyMetrics(ticker, metric):\n",
    "    metricRes = finnhub_client.company_basic_financials(ticker, metric)\n",
    "    ##metricDf = pd.DataFrame(metricRes)\n",
    "    ##return metricDf\n",
    "    return metricRes\n"
   ]
  },
  {
   "cell_type": "code",
   "execution_count": null,
   "metadata": {},
   "outputs": [],
   "source": [
    "stock = 'F'\n",
    "data = 'ALL'\n",
    "formatMetrics = companyMetrics(stock, data)\n",
    "type(formatMetrics)\n",
    "##print(formatMetrics)\n",
    "metricDf = pd.DataFrame.from_dict(formatMetrics, orient='index')\n"
   ]
  },
  {
   "cell_type": "code",
   "execution_count": null,
   "metadata": {},
   "outputs": [],
   "source": []
  }
 ],
 "metadata": {
  "kernelspec": {
   "display_name": "Python 3",
   "language": "python",
   "name": "python3"
  },
  "language_info": {
   "codemirror_mode": {
    "name": "ipython",
    "version": 3
   },
   "file_extension": ".py",
   "mimetype": "text/x-python",
   "name": "python",
   "nbconvert_exporter": "python",
   "pygments_lexer": "ipython3",
   "version": "3.11.3"
  },
  "orig_nbformat": 4
 },
 "nbformat": 4,
 "nbformat_minor": 2
}
